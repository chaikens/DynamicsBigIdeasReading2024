{
 "cells": [
  {
   "cell_type": "markdown",
   "id": "fa4f10c0-7aa2-41cb-a3da-96b1b2c69731",
   "metadata": {},
   "source": [
    "# Gleason polynomials over GF(2)"
   ]
  },
  {
   "cell_type": "code",
   "execution_count": 1,
   "id": "51473e12-505e-4ef3-ade3-6195e75b2be0",
   "metadata": {},
   "outputs": [],
   "source": [
    "myR.<c,z> = GF(2)['c','z']"
   ]
  },
  {
   "cell_type": "code",
   "execution_count": 2,
   "id": "884fa943-caa0-450a-b348-392f5581ae40",
   "metadata": {},
   "outputs": [
    {
     "data": {
      "text/plain": [
       "Multivariate Polynomial Ring in c, z over Finite Field of size 2"
      ]
     },
     "execution_count": 2,
     "metadata": {},
     "output_type": "execute_result"
    }
   ],
   "source": [
    "myR"
   ]
  },
  {
   "cell_type": "code",
   "execution_count": 3,
   "id": "9d507067-60c9-45e8-8486-308efb12779d",
   "metadata": {},
   "outputs": [
    {
     "data": {
      "text/plain": [
       "0"
      ]
     },
     "execution_count": 3,
     "metadata": {},
     "output_type": "execute_result"
    }
   ],
   "source": [
    "c+c"
   ]
  },
  {
   "cell_type": "code",
   "execution_count": 4,
   "id": "fe8a1883-b60c-49a1-92b9-52350054e538",
   "metadata": {},
   "outputs": [],
   "source": [
    "def f(c, z):\n",
    "    return z^2 + c\n",
    "def fn(n, c, z):\n",
    "    if n == 0:\n",
    "        return z\n",
    "    else:\n",
    "        return f(c,fn(n-1,c,z))\n",
    "def Fn(n, c, z):\n",
    "    return( fn(n, c, z) - z )"
   ]
  },
  {
   "cell_type": "markdown",
   "id": "39b30977-eeeb-4249-8d89-34b03518e253",
   "metadata": {},
   "source": [
    "$z$ is periodic of period $n$ for $f(c)$ iff $F_n(n,c,z)=0$.\n",
    "\n",
    "Lemma: If $m$ divides $n$ then $F_m$ divides $F_n$ in $k[c,z]$."
   ]
  },
  {
   "cell_type": "code",
   "execution_count": 5,
   "id": "5d6c131b-6819-42ee-9e55-8504b6e7b03e",
   "metadata": {},
   "outputs": [
    {
     "name": "stdout",
     "output_type": "stream",
     "text": [
      "Gleason Polys will be computed and stored\n",
      "working on nn= 2\n",
      "divisor  1\n",
      "divisor  2\n",
      "Saving up to nn= 2  .....\n",
      "Saved up to nn= 2 \n",
      "\n",
      "working on nn= 3\n",
      "divisor  1\n",
      "divisor  3\n",
      "Saving up to nn= 3  .....\n",
      "Saved up to nn= 3 \n",
      "\n",
      "working on nn= 4\n",
      "divisor  1\n",
      "divisor  2\n",
      "divisor  4\n",
      "Saving up to nn= 4  .....\n",
      "Saved up to nn= 4 \n",
      "\n",
      "working on nn= 5\n",
      "divisor  1\n",
      "divisor  5\n",
      "Saving up to nn= 5  .....\n",
      "Saved up to nn= 5 \n",
      "\n",
      "working on nn= 6\n",
      "divisor  1\n",
      "divisor  2\n",
      "divisor  3\n",
      "divisor  6\n",
      "Saving up to nn= 6  .....\n",
      "Saved up to nn= 6 \n",
      "\n",
      "working on nn= 7\n",
      "divisor  1\n",
      "divisor  7\n",
      "Saving up to nn= 7  .....\n",
      "Saved up to nn= 7 \n",
      "\n",
      "working on nn= 8\n",
      "divisor  1\n",
      "divisor  2\n",
      "divisor  4\n",
      "divisor  8\n",
      "Saving up to nn= 8  .....\n",
      "Saved up to nn= 8 \n",
      "\n",
      "working on nn= 9\n",
      "divisor  1\n",
      "divisor  3\n",
      "divisor  9\n",
      "Saving up to nn= 9  .....\n",
      "Saved up to nn= 9 \n",
      "\n",
      "working on nn= 10\n",
      "divisor  1\n",
      "divisor  2\n",
      "divisor  5\n",
      "divisor  10\n",
      "Saving up to nn= 10  .....\n",
      "Saved up to nn= 10 \n",
      "\n",
      "working on nn= 11\n",
      "divisor  1\n",
      "divisor  11\n",
      "Saving up to nn= 11  .....\n",
      "Saved up to nn= 11 \n",
      "\n",
      "working on nn= 12\n",
      "divisor  1\n",
      "divisor  2\n",
      "divisor  3\n",
      "divisor  4\n",
      "divisor  6\n",
      "divisor  12\n",
      "Saving up to nn= 12  .....\n",
      "Saved up to nn= 12 \n",
      "\n",
      "working on nn= 13\n",
      "divisor  1\n",
      "divisor  13\n",
      "Saving up to nn= 13  .....\n",
      "Saved up to nn= 13 \n",
      "\n",
      "working on nn= 14\n",
      "divisor  1\n",
      "divisor  2\n",
      "divisor  7\n",
      "divisor  14\n",
      "Saving up to nn= 14  .....\n",
      "Saved up to nn= 14 \n",
      "\n",
      "working on nn= 15\n",
      "divisor  1\n",
      "divisor  3\n",
      "divisor  5\n",
      "divisor  15\n",
      "Saving up to nn= 15  .....\n",
      "Saved up to nn= 15 \n",
      "\n",
      "working on nn= 16\n",
      "divisor  1\n",
      "divisor  2\n",
      "divisor  4\n",
      "divisor  8\n",
      "divisor  16\n",
      "Saving up to nn= 16  .....\n",
      "Saved up to nn= 16 \n",
      "\n",
      "working on nn= 17\n",
      "divisor  1\n",
      "divisor  17\n",
      "Saving up to nn= 17  .....\n",
      "Saved up to nn= 17 \n",
      "\n",
      "working on nn= 18\n",
      "divisor  1\n",
      "divisor  2\n",
      "divisor  3\n",
      "divisor  6\n",
      "divisor  9\n",
      "divisor  18\n",
      "Saving up to nn= 18  .....\n",
      "Saved up to nn= 18 \n",
      "\n",
      "working on nn= 19\n",
      "divisor  1\n",
      "divisor  19\n",
      "Saving up to nn= 19  .....\n",
      "Saved up to nn= 19 \n",
      "\n",
      "working on nn= 20\n",
      "divisor  1\n",
      "divisor  2\n",
      "divisor  4\n",
      "divisor  5\n",
      "divisor  10\n",
      "divisor  20\n",
      "Saving up to nn= 20  .....\n",
      "Saved up to nn= 20 \n",
      "\n",
      "working on nn= 21\n",
      "divisor  1\n",
      "divisor  3\n",
      "divisor  7\n",
      "divisor  21\n",
      "Saving up to nn= 21  .....\n",
      "Saved up to nn= 21 \n",
      "\n",
      "working on nn= 22\n",
      "divisor  1\n",
      "divisor  2\n",
      "divisor  11\n",
      "divisor  22\n",
      "Saving up to nn= 22  .....\n",
      "Saved up to nn= 22 \n",
      "\n",
      "working on nn= 23\n",
      "divisor  1\n",
      "divisor  23\n",
      "Saving up to nn= 23  .....\n",
      "Saved up to nn= 23 \n",
      "\n",
      "working on nn= 24\n",
      "divisor  1\n",
      "divisor  2\n",
      "divisor  3\n",
      "divisor  4\n",
      "divisor  6\n",
      "divisor  8\n",
      "divisor  12\n",
      "divisor  24\n",
      "Saving up to nn= 24  .....\n",
      "Saved up to nn= 24 \n",
      "\n",
      "working on nn= 25\n",
      "divisor  1\n",
      "divisor  5\n",
      "divisor  25\n",
      "Saving up to nn= 25  .....\n",
      "Saved up to nn= 25 \n",
      "\n"
     ]
    }
   ],
   "source": [
    "maxn_wanted = 25\n",
    "try: \n",
    "    G = load(\"Mod2GleasonsDefined\")\n",
    "    maxn = len(G)-1\n",
    "    if maxn < maxn_wanted:\n",
    "        raise Exception(\"We Want more than we have!\")\n",
    "    print(\"Gleason Polys loaded from storage\")\n",
    "except:\n",
    "    print(\"Gleason Polys will be computed and stored\")\n",
    "\n",
    "    maxn = maxn_wanted\n",
    "    G   =  [None for _ in range(maxn+1)]\n",
    "    G[1]   = Fn(1, c, 0)\n",
    "\n",
    "\n",
    "    for nn in range(2, maxn+1): # that is, [2, 3, ..., 13], which takes a couple of minutes.\n",
    "        print(\"working on nn=\", nn)\n",
    "        result0 = Fn(nn, c, 0)\n",
    "        for div in divisors(nn):\n",
    "            print(\"divisor \", div)\n",
    "            if div < nn:\n",
    "                result0 = result0 / G[div]\n",
    "        G[nn] = result0\n",
    "        \"\"\"\n",
    "        print(nn)\n",
    "        if nn < 8:\n",
    "            print(Gex[nn])\n",
    "        else:\n",
    "            print(\"Deg G\", nn, \"is\") #, Gex[nn].coefficients()[-1][1])\n",
    "        print(\"\\n\\n\")\n",
    "        \"\"\"\n",
    "\n",
    "        print(\"Saving up to nn=\", nn, \" .....\")\n",
    "        save(G,\"Mod2GleasonsDefined\")\n",
    "        print(\"Saved up to nn=\", nn, \"\\n\")\n",
    "\n",
    "\n"
   ]
  },
  {
   "cell_type": "code",
   "execution_count": 20,
   "id": "6b517b6f-0491-4e56-9e43-53921c818b89",
   "metadata": {},
   "outputs": [
    {
     "name": "stdout",
     "output_type": "stream",
     "text": [
      "Polys loaded from storage\n"
     ]
    }
   ],
   "source": [
    "Phi_maxn_wanted = 14\n",
    "try: \n",
    "    Phi = load(\"Mod2Phis\")\n",
    "    Phi_maxn = len(Phi)-1\n",
    "    if Phi_maxn < Phi_maxn_wanted:\n",
    "        raise Exception(\"We want more than we have!\")\n",
    "    print(\"Polys loaded from storage\")\n",
    "except:\n",
    "    print(\"Polys will be computed and stored\")\n",
    "\n",
    "    Phi_maxn = Phi_maxn_wanted\n",
    "    Phi  = [None for _ in range(Phi_maxn+1)]\n",
    "    Phi[1] = Fn(1, c, z)\n",
    "    \n",
    "    for nn in range(2, Phi_maxn+1):\n",
    "        print(\"working on nn=\", nn)\n",
    "        resultz = Fn(nn, c, z)\n",
    "        for div in divisors(nn):\n",
    "            print(\"divisor \", div)\n",
    "            if div < nn:\n",
    "                resultz = resultz / Phi[div]\n",
    "        Phi[nn] = resultz\n",
    "\n",
    "        print(\"Saving up to nn=\", nn, \" .....\")\n",
    "        save(Phi,\"Mod2Phis\")\n",
    "        print(\"Saved up to nn=\", nn, \"\\n\")\n",
    "\n",
    "\n"
   ]
  },
  {
   "cell_type": "code",
   "execution_count": 38,
   "id": "ee428471-c364-468c-8669-7173b18ffd3e",
   "metadata": {},
   "outputs": [
    {
     "name": "stdout",
     "output_type": "stream",
     "text": [
      "(c^2 + c + 1, 1)\n",
      "(c^4 + c + 1, 1)\n"
     ]
    }
   ],
   "source": [
    "nn=4\n",
    "for f in G[nn].factor():\n",
    "    print(f)\n",
    "#factors = [f for f in G[nn].factor()]\n",
    "#print(len(factors))\n",
    "#print()\n",
    "#display(factors)"
   ]
  },
  {
   "cell_type": "code",
   "execution_count": null,
   "id": "b03e167d-8d3c-4bf6-97c4-1146ea9ef31c",
   "metadata": {},
   "outputs": [],
   "source": [
    "[f for f in G[nn].factor()]"
   ]
  },
  {
   "cell_type": "markdown",
   "id": "937ded33-c20e-4fc8-b81c-cfaec0428bd4",
   "metadata": {},
   "source": [
    "# Polynomials and quadratic functions over GF(2)"
   ]
  },
  {
   "cell_type": "code",
   "execution_count": null,
   "id": "a03466fa-d1be-4ca7-be73-06844fa91f52",
   "metadata": {},
   "outputs": [],
   "source": [
    "F2Polys  = PolynomialRing(GF(2),'c')\n",
    "c = F2Polys.gen()"
   ]
  },
  {
   "cell_type": "code",
   "execution_count": null,
   "id": "37531bda-9106-4c11-9c2c-7a93117380ae",
   "metadata": {},
   "outputs": [],
   "source": [
    "def f0orbit(p0):\n",
    "    orb = [p0]\n",
    "    next = p0^2\n",
    "    while next != p0:\n",
    "        orb.append(next)\n",
    "        next = next^2\n",
    "    return orb\n",
    "def f0orbitj(p0, j):\n",
    "    p = p0\n",
    "    for _ in range(j):\n",
    "        p = p^2\n",
    "    return p\n",
    "def seeSumsf0orbitTillOrbit(p0, maxj=Infinity):\n",
    "    sum = p0\n",
    "    p = p0\n",
    "    j = 1\n",
    "    list = [[j, p, sum]]\n",
    "    print(\"[j, f_0^oj(\", p, \"), sum_0^j f_0^oj(\", p, \")\\n\")\n",
    "    print(list[0])\n",
    "    while (sum != 0) and j <= maxj:\n",
    "        j = j+1\n",
    "        p = p^2\n",
    "        sum = sum + p\n",
    "        list.append([j, p, sum])\n",
    "        if p == p0:\n",
    "            print(\"Wow, a periodicity in f0^oj(\", p0, \")\")\n",
    "            print(\"    V\")\n",
    "        print(list[-1])\n",
    "#    j = j+1\n",
    "#    p = p^2\n",
    "#    sum = sum + p\n",
    "#    list.append([j, p, sum])\n",
    "#    print(list[-1])\n",
    "    return( list ) \n",
    "def critorb(c):\n",
    "    myzero = (c.parent())(0)\n",
    "    orb = [myzero]\n",
    "    next = myzero^2 + c\n",
    "    while next != myzero:\n",
    "        orb.append(next)\n",
    "        next = next^2 + c\n",
    "    return orb\n",
    "def critorbj(c, j):\n",
    "    myzero = (c.parent())(0)\n",
    "    p = myzero\n",
    "    for _ in range(j):\n",
    "        p = p^2 + c\n",
    "    return p    \n",
    "def evalfonpinlist(f, list):\n",
    "    vals = []\n",
    "    for val in list:\n",
    "        vals.append(f(x=val))\n",
    "    return vals"
   ]
  },
  {
   "cell_type": "code",
   "execution_count": null,
   "id": "b62fdeff-a981-4944-ad62-25ab8e498a5e",
   "metadata": {},
   "outputs": [],
   "source": [
    "seeSumsf0orbitTillOrbit(0.01,maxj=10)\n",
    "pass"
   ]
  },
  {
   "cell_type": "code",
   "execution_count": null,
   "id": "2f2dc362-82fd-45ae-a8a5-15980db66c85",
   "metadata": {},
   "outputs": [],
   "source": [
    "def all_irred_polys_to_N(N):\n",
    "    centered, noncentered, all= [],[],[]\n",
    "    for deg in range(1, N+1):\n",
    "        polys = F2Polys.polynomials(deg)\n",
    "        for poly in polys:\n",
    "            if poly.is_irreducible():\n",
    "                all.append(poly)\n",
    "                if poly.list()[-2] == 0:\n",
    "                    centered.append(poly)\n",
    "                else:\n",
    "                    noncentered.append(poly)\n",
    "    return (centered, noncentered, all)   "
   ]
  },
  {
   "cell_type": "code",
   "execution_count": null,
   "id": "a1335bcd-1da9-4cb8-ac21-3c2fbe13267b",
   "metadata": {},
   "outputs": [],
   "source": [
    "(centered, noncentered,allirredpolys) = all_irred_polys_to_N(5)"
   ]
  },
  {
   "cell_type": "code",
   "execution_count": null,
   "id": "a72f54a3-23f9-4e1f-af81-2975be8f75cc",
   "metadata": {},
   "outputs": [],
   "source": [
    "allirredpolys"
   ]
  },
  {
   "cell_type": "code",
   "execution_count": null,
   "id": "afe2e824-1d30-4151-8b84-8be9b8306c28",
   "metadata": {},
   "outputs": [],
   "source": [
    "centered"
   ]
  },
  {
   "cell_type": "code",
   "execution_count": null,
   "id": "7a797dd1-92d4-4bc4-b55b-3c88e5a5db4c",
   "metadata": {},
   "outputs": [],
   "source": [
    "noncentered"
   ]
  },
  {
   "cell_type": "code",
   "execution_count": null,
   "id": "40a9353d-e93c-430a-9648-4ca986533129",
   "metadata": {},
   "outputs": [],
   "source": [
    "G[5]"
   ]
  },
  {
   "cell_type": "code",
   "execution_count": null,
   "id": "8ef98ff3-63dc-4633-aad9-0a55b4bef98e",
   "metadata": {},
   "outputs": [],
   "source": [
    "G[5](c=x)"
   ]
  },
  {
   "cell_type": "code",
   "execution_count": null,
   "id": "2436abcd-39c0-4d1b-8e67-1292c7a40ed9",
   "metadata": {},
   "outputs": [],
   "source": []
  }
 ],
 "metadata": {
  "kernelspec": {
   "display_name": "SageMath 10.4",
   "language": "sage",
   "name": "sagemath"
  },
  "language_info": {
   "codemirror_mode": {
    "name": "ipython",
    "version": 3
   },
   "file_extension": ".py",
   "mimetype": "text/x-python",
   "name": "python",
   "nbconvert_exporter": "python",
   "pygments_lexer": "ipython3",
   "version": "3.10.12"
  }
 },
 "nbformat": 4,
 "nbformat_minor": 5
}
