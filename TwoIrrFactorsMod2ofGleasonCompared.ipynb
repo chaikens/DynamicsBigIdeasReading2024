{
 "cells": [
  {
   "cell_type": "code",
   "execution_count": 1,
   "id": "a03466fa-d1be-4ca7-be73-06844fa91f52",
   "metadata": {},
   "outputs": [],
   "source": [
    "F2Polys  = PolynomialRing(GF(2),'x')\n",
    "x = F2Polys.gen()"
   ]
  },
  {
   "cell_type": "markdown",
   "id": "b2c0c384-7605-472e-b1aa-093b8f5e686a",
   "metadata": {},
   "source": [
    "Polynomials below are from Koch et al Table A.8 entry 3 (centered), entry 1 (not centered)"
   ]
  },
  {
   "cell_type": "code",
   "execution_count": 2,
   "id": "a1440479-2d73-42c7-8ffb-a203acf3d1b6",
   "metadata": {},
   "outputs": [
    {
     "name": "stdout",
     "output_type": "stream",
     "text": [
      "Univariate Quotient Polynomial Ring in cc over Finite Field of size 2 with modulus x^8 + x^4 + x^3 + x + 1\n",
      "Univariate Quotient Polynomial Ring in cn over Finite Field of size 2 with modulus x^4 + x^3 + 1\n",
      "\n",
      "x^8 + x^4 + x^3 + x + 1\n",
      "x^4 + x^3 + 1\n"
     ]
    }
   ],
   "source": [
    "Qcc = F2Polys.quotient(x^8+x^4+x^3+x+1,\"cc\")\n",
    "cc = Qcc.gen()\n",
    "Qcn = F2Polys.quotient(x^4+x^3+1,\"cn\")\n",
    "cn = Qcn.gen()\n",
    "\n",
    "print(Qcc)\n",
    "print(Qcn)\n",
    "print()\n",
    "\n",
    "assert(Qcc==cc.parent())\n",
    "assert(Qcn==cn.parent())\n",
    "\n",
    "Pcen = Qcc.modulus()\n",
    "Pncen = Qcn.modulus()\n",
    "\n",
    "print(Pcen)\n",
    "print(Pncen)\n"
   ]
  },
  {
   "cell_type": "markdown",
   "id": "5c38bdba-791a-459c-aadf-8442ee6d93ea",
   "metadata": {},
   "source": [
    "Verify rootness of the generating elements."
   ]
  },
  {
   "cell_type": "code",
   "execution_count": 3,
   "id": "8a64a0ec-53c0-474b-812a-410b038e1af8",
   "metadata": {},
   "outputs": [
    {
     "name": "stdout",
     "output_type": "stream",
     "text": [
      "0\n",
      "cn^3 + cn^2\n",
      "cc^4 + cc^3 + 1\n",
      "0\n"
     ]
    }
   ],
   "source": [
    "print(Pcen(x=cc))\n",
    "print(Pcen(x=cn))\n",
    "print(Pncen(x=cc))\n",
    "print(Pncen(x=cn))"
   ]
  },
  {
   "cell_type": "code",
   "execution_count": 63,
   "id": "37531bda-9106-4c11-9c2c-7a93117380ae",
   "metadata": {},
   "outputs": [],
   "source": [
    "def f0orbit(p0):\n",
    "    orb = [p0]\n",
    "    next = p0^2\n",
    "    while next != p0:\n",
    "        orb.append(next)\n",
    "        next = next^2\n",
    "    return orb\n",
    "def f0orbitj(p0, j):\n",
    "    p = p0\n",
    "    for _ in range(j):\n",
    "        p = p^2\n",
    "    return p\n",
    "def seeSumsf0orbitTillOrbit(p0, maxj=Infinity):\n",
    "    sum = p0\n",
    "    p = p0\n",
    "    j = 1\n",
    "    list = [[j, p, sum]]\n",
    "    print(\"[j, f_0^oj(\", p, \"), sum_0^j f_0^oj(\", p, \")\\n\")\n",
    "    print(list[0])\n",
    "    while (sum != 0) and j <= maxj:\n",
    "        j = j+1\n",
    "        p = p^2\n",
    "        sum = sum + p\n",
    "        list.append([j, p, sum])\n",
    "        if p == p0:\n",
    "            print(\"Wow, a periodicity in f0^oj(\", p0, \")\")\n",
    "            print(\"    V\")\n",
    "        print(list[-1])\n",
    "#    j = j+1\n",
    "#    p = p^2\n",
    "#    sum = sum + p\n",
    "#    list.append([j, p, sum])\n",
    "#    print(list[-1])\n",
    "    return( list ) \n",
    "def critorb(c):\n",
    "    myzero = (c.parent())(0)\n",
    "    orb = [myzero]\n",
    "    next = myzero^2 + c\n",
    "    while next != myzero:\n",
    "        orb.append(next)\n",
    "        next = next^2 + c\n",
    "    return orb\n",
    "def critorbj(c, j):\n",
    "    myzero = (c.parent())(0)\n",
    "    p = myzero\n",
    "    for _ in range(j):\n",
    "        p = p^2 + c\n",
    "    return p    \n",
    "def evalfonpinlist(f, list):\n",
    "    vals = []\n",
    "    for val in list:\n",
    "        vals.append(f(x=val))\n",
    "    return vals"
   ]
  },
  {
   "cell_type": "code",
   "execution_count": 68,
   "id": "b62fdeff-a981-4944-ad62-25ab8e498a5e",
   "metadata": {},
   "outputs": [
    {
     "name": "stdout",
     "output_type": "stream",
     "text": [
      "[j, f_0^oj( 0.0100000000000000 ), sum_0^j f_0^oj( 0.0100000000000000 )\n",
      "\n",
      "[1, 0.0100000000000000, 0.0100000000000000]\n",
      "[2, 0.000100000000000000, 0.0101000000000000]\n",
      "[3, 1.00000000000000e-8, 0.0101000100000000]\n",
      "[4, 1.00000000000000e-16, 0.0101000100000001]\n",
      "[5, 1.00000000000000e-32, 0.0101000100000001]\n",
      "[6, 1.00000000000000e-64, 0.0101000100000001]\n",
      "[7, 1.00000000000000e-128, 0.0101000100000001]\n",
      "[8, 1.00000000000000e-256, 0.0101000100000001]\n",
      "[9, 1.00000000000000e-512, 0.0101000100000001]\n",
      "[10, 1.00000000000000e-1024, 0.0101000100000001]\n",
      "[11, 1.00000000000001e-2048, 0.0101000100000001]\n"
     ]
    }
   ],
   "source": [
    "seeSumsf0orbitTillOrbit(0.01,maxj=10)\n",
    "pass"
   ]
  },
  {
   "cell_type": "markdown",
   "id": "726ca1d3-4e84-41a7-b459-ec78e48dbfaf",
   "metadata": {},
   "source": [
    "CENTERED"
   ]
  },
  {
   "cell_type": "code",
   "execution_count": 6,
   "id": "0bcad5ff-f77b-4c7b-b962-2f101111cc46",
   "metadata": {},
   "outputs": [
    {
     "data": {
      "text/plain": [
       "x^8 + x^4 + x^3 + x + 1"
      ]
     },
     "execution_count": 6,
     "metadata": {},
     "output_type": "execute_result"
    }
   ],
   "source": [
    "Pcen"
   ]
  },
  {
   "cell_type": "markdown",
   "id": "83ee45dd-3f2a-4c4c-9b8f-5fb78094b43a",
   "metadata": {},
   "source": [
    "The roots of Pcen are by definition the Galois orbit of one root, and they are generated from one root by repeated squareing.  For characteristic p, x -> x^p is called the Frobenius automorphism."
   ]
  },
  {
   "cell_type": "code",
   "execution_count": 7,
   "id": "ab308191-2f37-438f-8979-8729ff67081f",
   "metadata": {},
   "outputs": [
    {
     "data": {
      "text/plain": [
       "[(cc, 1),\n",
       " (cc^2, 1),\n",
       " (cc^4, 1),\n",
       " (cc^4 + cc^3 + cc + 1, 1),\n",
       " (cc^6 + cc^3 + cc^2 + 1, 1),\n",
       " (cc^6 + cc^4 + cc^3 + cc^2 + cc, 1),\n",
       " (cc^7 + cc^6 + cc^5 + cc^2, 1),\n",
       " (cc^7 + cc^6 + cc^5 + cc^4 + cc^3 + cc, 1)]"
      ]
     },
     "execution_count": 7,
     "metadata": {},
     "output_type": "execute_result"
    }
   ],
   "source": [
    "Pcen.roots(ring=Qcc)"
   ]
  },
  {
   "cell_type": "code",
   "execution_count": 8,
   "id": "ba913524-2db7-465a-93c1-a7bc3b409b7e",
   "metadata": {},
   "outputs": [
    {
     "data": {
      "text/plain": [
       "[cc,\n",
       " cc^2,\n",
       " cc^4,\n",
       " cc^4 + cc^3 + cc + 1,\n",
       " cc^6 + cc^4 + cc^3 + cc^2 + cc,\n",
       " cc^7 + cc^6 + cc^5 + cc^2,\n",
       " cc^6 + cc^3 + cc^2 + 1,\n",
       " cc^7 + cc^6 + cc^5 + cc^4 + cc^3 + cc]"
      ]
     },
     "execution_count": 8,
     "metadata": {},
     "output_type": "execute_result"
    }
   ],
   "source": [
    "galois_orbit_cc=f0orbit(cc)\n",
    "galois_orbit_cc"
   ]
  },
  {
   "cell_type": "code",
   "execution_count": 9,
   "id": "d4ee7754-6fea-41ed-a136-bb9bff064ee3",
   "metadata": {},
   "outputs": [],
   "source": [
    "assert(\n",
    "    Set(galois_orbit_cc)\n",
    "    == \n",
    "    Set([pair[0] for pair in Pcen.roots(ring=Qcc)]))"
   ]
  },
  {
   "cell_type": "code",
   "execution_count": 10,
   "id": "12400cd6-2f60-4767-a459-0f0529020928",
   "metadata": {},
   "outputs": [
    {
     "data": {
      "text/plain": [
       "[0,\n",
       " cc,\n",
       " cc^2 + cc,\n",
       " cc^4 + cc^2 + cc,\n",
       " cc^3 + cc^2 + 1,\n",
       " cc^6 + cc^4 + cc + 1,\n",
       " cc^7 + cc^5 + cc^4 + cc^2 + cc + 1,\n",
       " cc^7 + cc^6 + cc^5 + cc^4 + cc^3 + cc]"
      ]
     },
     "execution_count": 10,
     "metadata": {},
     "output_type": "execute_result"
    }
   ],
   "source": [
    "critical_orbit_cc=critorb(cc)\n",
    "critical_orbit_cc"
   ]
  },
  {
   "cell_type": "markdown",
   "id": "cc7aa903-8157-4aab-a757-87e50ca27f75",
   "metadata": {},
   "source": [
    "Polynomial Pc is centered means the 2nd highest coefficient, which equals the sum of all its roots in a ring that has all the roots, equals 0."
   ]
  },
  {
   "cell_type": "code",
   "execution_count": 11,
   "id": "19823809-1b16-42a9-9e0a-edc9b7f27ee5",
   "metadata": {},
   "outputs": [
    {
     "data": {
      "text/plain": [
       "0"
      ]
     },
     "execution_count": 11,
     "metadata": {},
     "output_type": "execute_result"
    }
   ],
   "source": [
    "sum(galois_orbit_cc)"
   ]
  },
  {
   "cell_type": "code",
   "execution_count": 12,
   "id": "2192a28d-de77-4e54-bebe-16d426a4902a",
   "metadata": {},
   "outputs": [],
   "source": [
    "assert(len(galois_orbit_cc) == len(critical_orbit_cc))"
   ]
  },
  {
   "cell_type": "code",
   "execution_count": 13,
   "id": "bafc1b64-4d35-444f-82bd-a50d60c26136",
   "metadata": {},
   "outputs": [
    {
     "data": {
      "text/plain": [
       "[0, 0, 0, 0, 0, 0, 0, 0]"
      ]
     },
     "execution_count": 13,
     "metadata": {},
     "output_type": "execute_result"
    }
   ],
   "source": [
    "evalfonpinlist(Pcen,galois_orbit_cc)"
   ]
  },
  {
   "cell_type": "code",
   "execution_count": 14,
   "id": "f4f5e953-dc85-4723-aa14-72ea706f40d0",
   "metadata": {},
   "outputs": [
    {
     "data": {
      "text/plain": [
       "[1,\n",
       " 0,\n",
       " cc^5 + cc^4 + 1,\n",
       " cc^5 + cc^4 + 1,\n",
       " cc^7 + cc^6 + cc^5 + 1,\n",
       " cc^6 + cc^5 + cc^4 + cc^3 + cc + 1,\n",
       " cc^7 + cc^4 + cc^3 + 1,\n",
       " 0]"
      ]
     },
     "execution_count": 14,
     "metadata": {},
     "output_type": "execute_result"
    }
   ],
   "source": [
    "evalfonpinlist(Pcen,critical_orbit_cc)"
   ]
  },
  {
   "cell_type": "code",
   "execution_count": 65,
   "id": "367eeeb8-110f-4d7b-b056-c44c7fda29a8",
   "metadata": {},
   "outputs": [
    {
     "name": "stdout",
     "output_type": "stream",
     "text": [
      "[j, f_0^oj( cc ), sum_0^j f_0^oj( cc )\n",
      "\n",
      "[1, cc, cc]\n",
      "[2, cc^2, cc^2 + cc]\n",
      "[3, cc^4, cc^4 + cc^2 + cc]\n",
      "[4, cc^4 + cc^3 + cc + 1, cc^3 + cc^2 + 1]\n",
      "[5, cc^6 + cc^4 + cc^3 + cc^2 + cc, cc^6 + cc^4 + cc + 1]\n",
      "[6, cc^7 + cc^6 + cc^5 + cc^2, cc^7 + cc^5 + cc^4 + cc^2 + cc + 1]\n",
      "[7, cc^6 + cc^3 + cc^2 + 1, cc^7 + cc^6 + cc^5 + cc^4 + cc^3 + cc]\n",
      "[8, cc^7 + cc^6 + cc^5 + cc^4 + cc^3 + cc, 0]\n"
     ]
    }
   ],
   "source": [
    "seeSumsf0orbitTillOrbit(cc)\n",
    "pass"
   ]
  },
  {
   "cell_type": "code",
   "execution_count": 66,
   "id": "580d15c5-edfb-4f0c-9b22-2a74d9af61e1",
   "metadata": {},
   "outputs": [
    {
     "data": {
      "text/plain": [
       "[0,\n",
       " cc,\n",
       " cc^2 + cc,\n",
       " cc^4 + cc^2 + cc,\n",
       " cc^3 + cc^2 + 1,\n",
       " cc^6 + cc^4 + cc + 1,\n",
       " cc^7 + cc^5 + cc^4 + cc^2 + cc + 1,\n",
       " cc^7 + cc^6 + cc^5 + cc^4 + cc^3 + cc]"
      ]
     },
     "execution_count": 66,
     "metadata": {},
     "output_type": "execute_result"
    }
   ],
   "source": [
    "critical_orbit_cc"
   ]
  },
  {
   "cell_type": "markdown",
   "id": "7d847cd4-c92f-496a-85d2-a35b712a834d",
   "metadata": {},
   "source": [
    "Non Centered"
   ]
  },
  {
   "cell_type": "code",
   "execution_count": 15,
   "id": "9a0c0d2d-7b98-46d8-9781-da878afd8d9c",
   "metadata": {},
   "outputs": [
    {
     "data": {
      "text/plain": [
       "x^4 + x^3 + 1"
      ]
     },
     "execution_count": 15,
     "metadata": {},
     "output_type": "execute_result"
    }
   ],
   "source": [
    "Pncen"
   ]
  },
  {
   "cell_type": "code",
   "execution_count": 16,
   "id": "f16f6eb2-6eb0-4a3e-b0b4-53d715addcd3",
   "metadata": {},
   "outputs": [
    {
     "data": {
      "text/plain": [
       "[(cn, 1), (cn^2, 1), (cn^3 + 1, 1), (cn^3 + cn^2 + cn, 1)]"
      ]
     },
     "execution_count": 16,
     "metadata": {},
     "output_type": "execute_result"
    }
   ],
   "source": [
    "Pncen.roots(ring=Qcn)"
   ]
  },
  {
   "cell_type": "code",
   "execution_count": 17,
   "id": "59b9c4d4-79b8-4cd2-9464-9467eebbd2e8",
   "metadata": {},
   "outputs": [
    {
     "data": {
      "text/plain": [
       "[cn, cn^2, cn^3 + 1, cn^3 + cn^2 + cn]"
      ]
     },
     "execution_count": 17,
     "metadata": {},
     "output_type": "execute_result"
    }
   ],
   "source": [
    "galois_orbit_cn=f0orbit(cn)\n",
    "galois_orbit_cn"
   ]
  },
  {
   "cell_type": "code",
   "execution_count": 18,
   "id": "e2d4bde9-ec61-4142-a9ab-70954ac727c6",
   "metadata": {},
   "outputs": [],
   "source": [
    "assert(\n",
    "    Set(galois_orbit_cn)\n",
    "    == \n",
    "    Set([pair[0] for pair in Pncen.roots(ring=Qcn)]))"
   ]
  },
  {
   "cell_type": "code",
   "execution_count": 19,
   "id": "75ac66be-374c-41ca-afab-f20f050c3783",
   "metadata": {},
   "outputs": [
    {
     "data": {
      "text/plain": [
       "[0,\n",
       " cn,\n",
       " cn^2 + cn,\n",
       " cn^3 + cn^2 + cn + 1,\n",
       " 1,\n",
       " cn + 1,\n",
       " cn^2 + cn + 1,\n",
       " cn^3 + cn^2 + cn]"
      ]
     },
     "execution_count": 19,
     "metadata": {},
     "output_type": "execute_result"
    }
   ],
   "source": [
    "critical_orbit_cn=critorb(cn)\n",
    "critical_orbit_cn"
   ]
  },
  {
   "cell_type": "markdown",
   "id": "e70c15a6-d1f0-4fce-86cb-bccf05925143",
   "metadata": {},
   "source": [
    "Polynomial Pncen is not centered, the sum of its roots, the 2nd highest coefficient, is non-zero, which must be 1 in GF(2)."
   ]
  },
  {
   "cell_type": "code",
   "execution_count": 20,
   "id": "38e5712c-5fba-4e01-b11f-d65b6fbf189b",
   "metadata": {},
   "outputs": [
    {
     "data": {
      "text/plain": [
       "1"
      ]
     },
     "execution_count": 20,
     "metadata": {},
     "output_type": "execute_result"
    }
   ],
   "source": [
    "sum(galois_orbit_cn)"
   ]
  },
  {
   "cell_type": "code",
   "execution_count": 21,
   "id": "3d968f20-178a-4883-b53e-38b6eed9609e",
   "metadata": {},
   "outputs": [],
   "source": [
    "assert(2*len(galois_orbit_cn) == len(critical_orbit_cn))"
   ]
  },
  {
   "cell_type": "code",
   "execution_count": 22,
   "id": "66710843-1109-4a57-8c4c-7dfc136f02c9",
   "metadata": {},
   "outputs": [
    {
     "data": {
      "text/plain": [
       "[0, 0, 0, 0]"
      ]
     },
     "execution_count": 22,
     "metadata": {},
     "output_type": "execute_result"
    }
   ],
   "source": [
    "evalfonpinlist(Pncen,galois_orbit_cn)"
   ]
  },
  {
   "cell_type": "code",
   "execution_count": 23,
   "id": "75dc6808-b03b-4a1d-af91-7e54d61c8f76",
   "metadata": {},
   "outputs": [
    {
     "data": {
      "text/plain": [
       "[1, 0, cn + 1, cn^3 + cn^2, 1, cn^2 + cn, cn^3, 0]"
      ]
     },
     "execution_count": 23,
     "metadata": {},
     "output_type": "execute_result"
    }
   ],
   "source": [
    "evalfonpinlist(Pncen,critical_orbit_cn)"
   ]
  },
  {
   "cell_type": "code",
   "execution_count": 64,
   "id": "b609761e-2952-4766-bd63-567d3b56bfc8",
   "metadata": {},
   "outputs": [
    {
     "name": "stdout",
     "output_type": "stream",
     "text": [
      "[j, f_0^oj( cn ), sum_0^j f_0^oj( cn )\n",
      "\n",
      "[1, cn, cn]\n",
      "[2, cn^2, cn^2 + cn]\n",
      "[3, cn^3 + 1, cn^3 + cn^2 + cn + 1]\n",
      "[4, cn^3 + cn^2 + cn, 1]\n",
      "Wow, a periodicity in f0^oj( cn )\n",
      "    V\n",
      "[5, cn, cn + 1]\n",
      "[6, cn^2, cn^2 + cn + 1]\n",
      "[7, cn^3 + 1, cn^3 + cn^2 + cn]\n",
      "[8, cn^3 + cn^2 + cn, 0]\n"
     ]
    }
   ],
   "source": [
    "seeSumsf0orbitTillOrbit(cn)\n",
    "pass\n"
   ]
  },
  {
   "cell_type": "code",
   "execution_count": 58,
   "id": "2fd1dfe4-91b4-49f1-89ba-d2a732555038",
   "metadata": {},
   "outputs": [
    {
     "data": {
      "text/plain": [
       "[0,\n",
       " cn,\n",
       " cn^2 + cn,\n",
       " cn^3 + cn^2 + cn + 1,\n",
       " 1,\n",
       " cn + 1,\n",
       " cn^2 + cn + 1,\n",
       " cn^3 + cn^2 + cn]"
      ]
     },
     "execution_count": 58,
     "metadata": {},
     "output_type": "execute_result"
    }
   ],
   "source": [
    "critical_orbit_cn"
   ]
  },
  {
   "cell_type": "code",
   "execution_count": null,
   "id": "e5e2d845-597a-4adb-8e17-da9e4dc1d960",
   "metadata": {},
   "outputs": [],
   "source": []
  },
  {
   "cell_type": "code",
   "execution_count": null,
   "id": "c729dac3-5ffe-4703-b6b9-7819b79779e9",
   "metadata": {},
   "outputs": [],
   "source": []
  },
  {
   "cell_type": "code",
   "execution_count": 70,
   "id": "2f2dc362-82fd-45ae-a8a5-15980db66c85",
   "metadata": {},
   "outputs": [],
   "source": [
    "def all_irred_polys_to_N(N):\n",
    "    centered, noncentered, all= [],[],[]\n",
    "    for deg in range(1, N+1):\n",
    "        polys = F2Polys.polynomials(deg)\n",
    "        for poly in polys:\n",
    "            if poly.is_irreducible():\n",
    "                all.append(poly)\n",
    "                if poly.list()[-2] == 0:\n",
    "                    centered.append(poly)\n",
    "                else:\n",
    "                    noncentered.append(poly)\n",
    "    return (centered, noncentered, all)   "
   ]
  },
  {
   "cell_type": "code",
   "execution_count": 74,
   "id": "a1335bcd-1da9-4cb8-ac21-3c2fbe13267b",
   "metadata": {},
   "outputs": [],
   "source": [
    "(centered, noncentered,allirredpolys) = all_irred_polys_to_N(5)"
   ]
  },
  {
   "cell_type": "code",
   "execution_count": 75,
   "id": "a72f54a3-23f9-4e1f-af81-2975be8f75cc",
   "metadata": {},
   "outputs": [
    {
     "data": {
      "text/plain": [
       "[x,\n",
       " x + 1,\n",
       " x^2 + x + 1,\n",
       " x^3 + x + 1,\n",
       " x^3 + x^2 + 1,\n",
       " x^4 + x + 1,\n",
       " x^4 + x^3 + 1,\n",
       " x^4 + x^3 + x^2 + x + 1,\n",
       " x^5 + x^2 + 1,\n",
       " x^5 + x^3 + 1,\n",
       " x^5 + x^3 + x^2 + x + 1,\n",
       " x^5 + x^4 + x^2 + x + 1,\n",
       " x^5 + x^4 + x^3 + x + 1,\n",
       " x^5 + x^4 + x^3 + x^2 + 1]"
      ]
     },
     "execution_count": 75,
     "metadata": {},
     "output_type": "execute_result"
    }
   ],
   "source": [
    "allirredpolys"
   ]
  },
  {
   "cell_type": "code",
   "execution_count": 76,
   "id": "afe2e824-1d30-4151-8b84-8be9b8306c28",
   "metadata": {},
   "outputs": [
    {
     "data": {
      "text/plain": [
       "[x,\n",
       " x^3 + x + 1,\n",
       " x^4 + x + 1,\n",
       " x^5 + x^2 + 1,\n",
       " x^5 + x^3 + 1,\n",
       " x^5 + x^3 + x^2 + x + 1]"
      ]
     },
     "execution_count": 76,
     "metadata": {},
     "output_type": "execute_result"
    }
   ],
   "source": [
    "centered"
   ]
  },
  {
   "cell_type": "code",
   "execution_count": 77,
   "id": "7a797dd1-92d4-4bc4-b55b-3c88e5a5db4c",
   "metadata": {},
   "outputs": [
    {
     "data": {
      "text/plain": [
       "[x + 1,\n",
       " x^2 + x + 1,\n",
       " x^3 + x^2 + 1,\n",
       " x^4 + x^3 + 1,\n",
       " x^4 + x^3 + x^2 + x + 1,\n",
       " x^5 + x^4 + x^2 + x + 1,\n",
       " x^5 + x^4 + x^3 + x + 1,\n",
       " x^5 + x^4 + x^3 + x^2 + 1]"
      ]
     },
     "execution_count": 77,
     "metadata": {},
     "output_type": "execute_result"
    }
   ],
   "source": [
    "noncentered"
   ]
  },
  {
   "cell_type": "code",
   "execution_count": null,
   "id": "51473e12-505e-4ef3-ade3-6195e75b2be0",
   "metadata": {},
   "outputs": [],
   "source": []
  }
 ],
 "metadata": {
  "kernelspec": {
   "display_name": "SageMath 10.4",
   "language": "sage",
   "name": "sagemath"
  },
  "language_info": {
   "codemirror_mode": {
    "name": "ipython",
    "version": 3
   },
   "file_extension": ".py",
   "mimetype": "text/x-python",
   "name": "python",
   "nbconvert_exporter": "python",
   "pygments_lexer": "ipython3",
   "version": "3.10.12"
  }
 },
 "nbformat": 4,
 "nbformat_minor": 5
}
